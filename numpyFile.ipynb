{
 "cells": [
  {
   "cell_type": "markdown",
   "metadata": {},
   "source": [
    "# 操作文件"
   ]
  },
  {
   "cell_type": "markdown",
   "metadata": {},
   "source": [
    "## 读取文件loadtxt()，读取txt文件，csv文件\n",
    "   loadtxt(fname,dtype,comments,delimiter,converters,skiprows,usercols,unpack,ndmin,encoding)\n",
    "   \n",
    "   comments：字符串或字符串组成的列表，表示注释字符集开始的标志，默认为#\n",
    "   \n",
    "   delimiter：字符串。分隔符\n",
    "   \n",
    "   converters：字典 。将特定列的数据转换为字典中对应的函数的浮点型数据。\n",
    "   \n",
    "   skiprows：跳过特定行数据\n",
    "   \n",
    "   usercols：元组，用来指定要读取数据的列\n",
    "   \n",
    "   unpack：布尔型。指定是否转置数组\n",
    "   \n",
    "   ndmin：整数型，指定返回的数组至少包含特定维度的数组\n",
    "   \n",
    "   encoding：编码"
   ]
  },
  {
   "cell_type": "markdown",
   "metadata": {},
   "source": [
    "## 读取普通文件"
   ]
  },
  {
   "cell_type": "code",
   "execution_count": 2,
   "metadata": {},
   "outputs": [],
   "source": [
    "import numpy as np"
   ]
  },
  {
   "cell_type": "code",
   "execution_count": 3,
   "metadata": {},
   "outputs": [
    {
     "name": "stdout",
     "output_type": "stream",
     "text": [
      "[[ 0.  1.  2.  3.  4.  5.  6.  7.  8.  9.]\n",
      " [10. 11. 12. 13. 14. 15. 16. 17. 18. 19.]\n",
      " [20. 21. 22. 23. 24. 25. 26. 27. 28. 29.]] (3, 10)\n"
     ]
    }
   ],
   "source": [
    "data = np.loadtxt('file/data1.txt')\n",
    "print(data,data.shape)"
   ]
  },
  {
   "cell_type": "code",
   "execution_count": 5,
   "metadata": {},
   "outputs": [
    {
     "name": "stdout",
     "output_type": "stream",
     "text": [
      "[[ 0  1  2  3  4  5  6  7  8  9]\n",
      " [10 11 12 13 14 15 16 17 18 19]\n",
      " [20 21 22 23 24 25 26 27 28 29]] (3, 10)\n"
     ]
    }
   ],
   "source": [
    "# 读取csv文件，需要设置分隔符，否则读出字符串，无法转为整型数据\n",
    "data = np.loadtxt('file/csv_test.csv',dtype = np.int32,delimiter = '\\t')\n",
    "print(data,data.shape)"
   ]
  },
  {
   "cell_type": "code",
   "execution_count": 6,
   "metadata": {},
   "outputs": [
    {
     "name": "stdout",
     "output_type": "stream",
     "text": [
      "[('小王', 21, '男', 170) ('小张', 25, '女', 165) ('小花', 19, '女', 197)]\n"
     ]
    }
   ],
   "source": [
    "# 读取结构化的数据\n",
    "user_info = np.dtype([('name','U10'),('age','i1'),('gender','U1'),('height','i2')])\n",
    "\n",
    "data = np.loadtxt('file/has_title.txt',dtype = user_info,skiprows = 1,encoding = 'utf-8')\n",
    "print(data)"
   ]
  },
  {
   "cell_type": "code",
   "execution_count": 7,
   "metadata": {},
   "outputs": [
    {
     "name": "stdout",
     "output_type": "stream",
     "text": [
      "[21 25 19]\n"
     ]
    },
    {
     "data": {
      "text/plain": [
       "21.666666666666668"
      ]
     },
     "execution_count": 7,
     "metadata": {},
     "output_type": "execute_result"
    }
   ],
   "source": [
    "# 计算平均年龄\n",
    "ages = data['age']\n",
    "print(ages)\n",
    "ages.mean()"
   ]
  },
  {
   "cell_type": "code",
   "execution_count": 8,
   "metadata": {},
   "outputs": [
    {
     "data": {
      "text/plain": [
       "array([21, 25, 19], dtype=int8)"
      ]
     },
     "execution_count": 8,
     "metadata": {},
     "output_type": "execute_result"
    }
   ],
   "source": [
    "# 如果只需要获取年龄，则可以用另一种方法\n",
    "data = np.loadtxt('file/has_title.txt',dtype = 'i1',usecols = 1,skiprows = 1,encoding = 'utf-8')\n",
    "data"
   ]
  },
  {
   "cell_type": "code",
   "execution_count": 9,
   "metadata": {
    "scrolled": false
   },
   "outputs": [
    {
     "name": "stdout",
     "output_type": "stream",
     "text": [
      "[False  True  True]\n",
      "[170 165 197]\n",
      "[165 197]\n",
      "181.0\n"
     ]
    }
   ],
   "source": [
    "# 计算女生的平均身高\n",
    "data = np.loadtxt('file/has_title.txt',dtype = user_info,skiprows = 1,encoding = 'utf-8')\n",
    "\n",
    "isgirl = data['gender'] == '女'\n",
    "print(isgirl)\n",
    "print(data['height'])\n",
    "print(data['height'][isgirl])\n",
    "print(data['height'][isgirl].mean())"
   ]
  },
  {
   "cell_type": "markdown",
   "metadata": {},
   "source": [
    "## 对于空置或其他异常值的处理"
   ]
  },
  {
   "cell_type": "code",
   "execution_count": null,
   "metadata": {},
   "outputs": [],
   "source": [
    "# 使用converterss"
   ]
  }
 ],
 "metadata": {
  "kernelspec": {
   "display_name": "Python 3",
   "language": "python",
   "name": "python3"
  },
  "language_info": {
   "codemirror_mode": {
    "name": "ipython",
    "version": 3
   },
   "file_extension": ".py",
   "mimetype": "text/x-python",
   "name": "python",
   "nbconvert_exporter": "python",
   "pygments_lexer": "ipython3",
   "version": "3.7.6"
  }
 },
 "nbformat": 4,
 "nbformat_minor": 4
}

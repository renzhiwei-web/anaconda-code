{
 "cells": [
  {
   "cell_type": "code",
   "execution_count": 1,
   "metadata": {},
   "outputs": [],
   "source": [
    "import numpy as np"
   ]
  },
  {
   "cell_type": "markdown",
   "metadata": {},
   "source": [
    "## 随机函数"
   ]
  },
  {
   "cell_type": "code",
   "execution_count": 2,
   "metadata": {},
   "outputs": [
    {
     "data": {
      "text/plain": [
       "array([[0.84913446, 0.83218788],\n",
       "       [0.92982362, 0.56634709],\n",
       "       [0.70404787, 0.10632728],\n",
       "       [0.81670533, 0.37151957]])"
      ]
     },
     "execution_count": 2,
     "metadata": {},
     "output_type": "execute_result"
    }
   ],
   "source": [
    "# numpy.random.rand(d0,d1,...,dm)，参数为维度\n",
    "# 创建[0,1)之间的均匀分布的随机数\n",
    "np.random.rand(4,2)"
   ]
  },
  {
   "cell_type": "code",
   "execution_count": 4,
   "metadata": {},
   "outputs": [
    {
     "name": "stdout",
     "output_type": "stream",
     "text": [
      "[ 0.10163524 -0.18304614 -0.45264211 -1.107949   -0.28870219 -0.08639981\n",
      " -1.3155892  -0.17907377 -0.70668913  0.58596738 -0.80072295 -0.23631246\n",
      " -0.29251104 -0.58068723 -0.89640511 -0.66513     1.58320247  0.50070805\n",
      " -1.47874519 -0.88116111 -0.23716528  1.8994238  -1.12410029  0.2884465\n",
      " -0.76232658  2.19888135  0.61363637  1.03157306  0.13624341 -0.77118116\n",
      "  0.4949781  -0.33915793 -1.05242449 -0.2277698  -0.788753   -1.10768043\n",
      " -0.38796054  0.35169378  0.18344527 -1.59502227 -1.22818727  1.23035651\n",
      " -1.11590288 -0.16668344  0.12976497  1.07462518  1.34264135  0.56475339\n",
      "  0.27702815 -0.39165014 -0.61502416 -1.46043483  0.53873679 -1.55522586\n",
      "  0.60967805 -0.77853642  1.08358877  0.63346261  1.85625342  1.68358055\n",
      " -0.26262541  1.20179826 -1.50542036  0.43129388 -0.32404395 -1.50739362\n",
      " -0.42950257 -1.85109138  0.54220521 -0.85654813  0.90130762 -0.17924743\n",
      " -0.13596593 -0.80449622  0.02125525  1.73802396  0.9211833   0.12274978\n",
      " -0.39662988 -0.31127771 -0.73422335 -1.4085038  -0.91332773  0.36289992\n",
      "  0.31855867 -1.13133381  1.10726476 -1.43179938 -1.67710176 -0.73234733\n",
      "  0.10672087  0.22296823  0.28657549 -0.43829287 -1.02019075 -0.25617833\n",
      " -0.18157375  0.18256891 -0.61707654 -0.0366067 ]\n"
     ]
    },
    {
     "data": {
      "text/plain": [
       "(array([ 8., 10., 15., 18., 15., 15.,  6.,  7.,  3.,  3.]),\n",
       " array([-1.85109138, -1.44609411, -1.04109683, -0.63609956, -0.23110229,\n",
       "         0.17389499,  0.57889226,  0.98388953,  1.38888681,  1.79388408,\n",
       "         2.19888135]),\n",
       " <a list of 10 Patch objects>)"
      ]
     },
     "execution_count": 4,
     "metadata": {},
     "output_type": "execute_result"
    },
    {
     "data": {
      "image/png": "[encoded data removed]",
      "text/plain": [
       "<Figure size 432x288 with 1 Axes>"
      ]
     },
     "metadata": {
      "needs_background": "light"
     },
     "output_type": "display_data"
    }
   ],
   "source": [
    "# numpy.random.randn(d0,d1,...,dm)，参数为维度\n",
    "# 创建[0,1)之间的符合正态分布的随机数\n",
    "from matplotlib import pyplot as plt\n",
    "a = np.random.randn(100)\n",
    "print(a)\n",
    "# 直方图\n",
    "plt.hist(a)"
   ]
  },
  {
   "cell_type": "code",
   "execution_count": 5,
   "metadata": {},
   "outputs": [
    {
     "data": {
      "text/plain": [
       "array([1, 0, 0, 1, 0])"
      ]
     },
     "execution_count": 5,
     "metadata": {},
     "output_type": "execute_result"
    }
   ],
   "source": [
    "# numpy.random.randint(low,hight = None,size = None,dtype = '1')，\n",
    "# 只有一个参数，默认是low，high没有填写时，默认随机数范围为[0,low),size默认为1\n",
    "# 返回【0，2）之间的整数\n",
    "np.random.randint(2,size = 5)"
   ]
  },
  {
   "cell_type": "code",
   "execution_count": 6,
   "metadata": {},
   "outputs": [
    {
     "data": {
      "text/plain": [
       "4"
      ]
     },
     "execution_count": 6,
     "metadata": {},
     "output_type": "execute_result"
    }
   ],
   "source": [
    "# 返回一个[1,5)之间的随机整数\n",
    "np.random.randint(1,5)"
   ]
  },
  {
   "cell_type": "code",
   "execution_count": 7,
   "metadata": {},
   "outputs": [
    {
     "data": {
      "text/plain": [
       "array([[ 2,  4],\n",
       "       [-1, -5]])"
      ]
     },
     "execution_count": 7,
     "metadata": {},
     "output_type": "execute_result"
    }
   ],
   "source": [
    "# 返回[-5,5)之间2行2列的数据\n",
    "np.random.randint(-5,5,size = (2,2))"
   ]
  },
  {
   "cell_type": "markdown",
   "metadata": {},
   "source": [
    "## 随机种子np.random.seed()\n",
    "   使生成的随机数相同"
   ]
  },
  {
   "cell_type": "code",
   "execution_count": 8,
   "metadata": {},
   "outputs": [
    {
     "name": "stdout",
     "output_type": "stream",
     "text": [
      "[[4.17022005e-01 7.20324493e-01 1.14374817e-04]\n",
      " [3.02332573e-01 1.46755891e-01 9.23385948e-02]\n",
      " [1.86260211e-01 3.45560727e-01 3.96767474e-01]]\n",
      "[[4.17022005e-01 7.20324493e-01 1.14374817e-04]\n",
      " [3.02332573e-01 1.46755891e-01 9.23385948e-02]\n",
      " [1.86260211e-01 3.45560727e-01 3.96767474e-01]]\n"
     ]
    }
   ],
   "source": [
    "np.random.seed(1)\n",
    "print(np.random.rand(3,3))\n",
    "\n",
    "np.random.seed(1)\n",
    "print(np.random.rand(3,3))"
   ]
  },
  {
   "cell_type": "markdown",
   "metadata": {},
   "source": [
    "## 正态分布 numpy.random.normal\n",
    "    作用：返回一个有size指定形状的数组，数组中的值服从 u=loc,sitar =scale的正态分布"
   ]
  },
  {
   "cell_type": "code",
   "execution_count": 16,
   "metadata": {},
   "outputs": [
    {
     "name": "stdout",
     "output_type": "stream",
     "text": [
      "[[ 0.43524235  0.22996873]\n",
      " [ 0.52231749  0.97761453]\n",
      " [-0.53021511  0.41923169]]\n",
      "--------------------\n",
      "[4.1950495  5.11893713 3.28846511 7.11290233 5.38644137 3.46646077\n",
      " 5.6725414  5.25157697 3.88490607 4.82206605 6.34003985 4.58724837\n",
      " 4.43541233 4.49430947 5.47322235 5.15360164 6.66050473 4.23468657\n",
      " 3.28877079 3.90584639 4.85123646 3.98529868 4.60684513 6.10940875\n",
      " 5.92755046 4.29561633 4.03083035 4.02236769 4.2494406  3.3065596\n",
      " 4.43740869 6.16102063 5.17204553 4.76468589 4.73114533 4.67022271\n",
      " 4.62575303 4.5155625  5.78180073 4.08612043 5.27851861 4.32994817\n",
      " 5.23245207 5.73479649 5.95966765 4.53885236 4.98437615 5.95193538\n",
      " 6.97759688 6.55638226 4.67190606 4.05080539 5.08617126 6.36968731\n",
      " 5.15723791 5.59678976 4.28591811 5.79197006 6.32960787 5.25385032\n",
      " 5.13742439 3.8115759  3.79214831 5.42572456 4.40478313 5.18842466\n",
      " 4.31687261 6.09731221 2.62859555 4.65310764 4.63379044 5.70201414\n",
      " 5.10663999 3.76548423 5.3778464  4.08700528 4.69750485 4.79977324\n",
      " 4.71257696 3.94207965 3.91397018 4.59370289 4.34792793 5.38159341\n",
      " 5.69988566 5.48964257 7.52449026 4.83796701 4.76633536 6.97899329\n",
      " 7.1491606  6.86968703 4.21978059 5.48510155 5.00708823 4.57902804\n",
      " 4.86788431 7.43568856 6.25656272 6.28298589 5.09637972 6.01548709\n",
      " 4.22355811 6.69495928 5.52787396 5.93182483 4.58427315 3.53686926\n",
      " 3.8031055  6.25098025 6.32550564 5.08154129 5.34872065 5.65583993\n",
      " 4.49349862 5.88736427 4.936773   4.46322321 4.96280868 3.38377775\n",
      " 3.73409949 5.51112479 4.63427538 5.5609693  5.75269667 5.45647131\n",
      " 6.04835079 6.46991995 4.60773426 7.53003771 4.92053169 4.97685636\n",
      " 4.38362204 6.44158549 5.91780728 4.27026266 5.66583433 5.26039878\n",
      " 4.70050506 4.05197078 3.13972912 5.98937858 4.77320679 2.83414304\n",
      " 4.52038297 6.79521092 3.38815267 3.47593524 4.66796725 4.08928264\n",
      " 4.3651124  3.97888677 6.09492188 5.18852896 5.62411916 4.30446243\n",
      " 4.99143553 4.59166302 4.26623636 4.86404896 4.4679432  3.49747399\n",
      " 4.0052905  4.790068   4.75861426 4.85047527 3.78065107 3.01579252\n",
      " 6.60367812 5.14844368 4.8438994  6.46896011 3.67057685 3.63076233\n",
      " 5.78478207 5.47914281 4.42881512 5.32763381 5.24472919 7.52689135\n",
      " 4.91630813 5.01807946 4.82971647 4.91959799 6.38035091 4.39194966\n",
      " 5.75281613 3.5222764  3.64149101 5.69702541 3.84383616 4.91905897\n",
      " 4.8121008  4.83887718 3.97577917 6.49023373 4.45369461 4.21468317\n",
      " 5.67879358 5.44243323 4.15261208 3.71846108 6.19853254 4.66893823\n",
      " 4.21815831 5.67244629 6.549328   5.24891618 7.7256467  3.95598284\n",
      " 5.62794809 3.86700817 4.79978444 4.38035078 6.62988058 3.50770292\n",
      " 6.38928096 5.20297364 6.48486312 5.6401065  4.3928751  3.17831815\n",
      " 5.25138033 4.44249466 4.94344666 6.20415375 4.98642429 3.97459707\n",
      " 4.63398472 5.09569178 4.79389044 3.14961117 6.41673505 5.86121481\n",
      " 4.73989002 5.60930293 5.95573407 6.02065779 4.11095922 4.93214838\n",
      " 3.53833843 2.7354424  2.82780972 5.82060399 1.64744169 5.57415177\n",
      " 5.67519842 4.61184785 4.86405491 4.54630673 4.91822343 6.54697594\n",
      " 4.90957568 6.48829327 4.98789322 4.76112394 4.60053058 5.91245599\n",
      " 4.42942706 6.59955164 4.71471032 4.37576097 6.08361544 3.68898418\n",
      " 5.20301575 5.42545751 6.18131074 3.85838654 4.78443367 4.27988431\n",
      " 5.59280386 4.04824986 3.7789067  6.3472358  4.62910637 4.65496987\n",
      " 4.2547999  3.85744037 4.57655954 3.91526616 4.411025   5.13835946\n",
      " 5.66371714 4.49367583 3.78035523 6.33715404 4.66356157 4.25872924\n",
      " 5.81673543 4.00903439 6.05280397 3.81522064 3.22232874 3.96529931\n",
      " 4.40344759 5.54199008 7.29667593 3.81257103 6.17570482 3.98076486\n",
      " 5.03837411 3.65838858 5.52115548 6.19339744 6.31521648 6.08111461\n",
      " 4.3285072  4.97329005 5.07362265 7.33442663 4.27367212 6.49511685\n",
      " 4.49646572 5.8781881  5.65233019 5.5235556  5.64357805 5.28907747\n",
      " 4.43305509 3.85782245 5.56956711 4.552727   5.57459686 5.3836483\n",
      " 4.03244954 4.57395504 4.9470483  5.48547594 5.85652741 6.27730157\n",
      " 5.12436896 4.87094232 5.56472683 4.78310299 4.89443326 4.47067059\n",
      " 5.48784434 5.73966045 4.03054242 5.96193544 6.79761774 3.41845412\n",
      " 5.13204437 2.55009463 6.2943939  5.1610637  5.89434995 6.25373027\n",
      " 5.28632333 5.41644223 5.30650065 4.69362407 5.37304798 5.77150621\n",
      " 4.99392101 2.81127972 4.60368195 4.65074959 3.43279071 5.22672793\n",
      " 5.02885633 4.18569888 5.49304314 5.91119001 3.86299853 5.12076103\n",
      " 3.99136044 5.82763552 7.05087297 3.976364   4.75218282 5.68393945\n",
      " 4.72473174 3.82403681 5.25915581 3.95395797 4.40222409 2.48416938\n",
      " 4.60188557 5.38534221 3.95363937 4.36762477 5.05686567 4.06447925\n",
      " 5.14387727 4.89773319 6.05650278 5.25634063 4.98029328 4.94443653\n",
      " 3.49064267 5.00592323 4.56976863 4.92921627 5.7101708  5.14407937\n",
      " 4.1786407  5.75372566 3.02653611 5.19197984 3.71477285 5.51882003\n",
      " 6.41329657 4.686557   7.0023697  4.61312503 4.47505744 3.53203218\n",
      " 3.96564615 4.62764292 4.80803175 4.59629753 4.37306301 3.83752076\n",
      " 5.83483123 6.95813721 5.63692791 6.00900435 4.96644734 5.99777462\n",
      " 6.23717737 5.13161546 5.32336173 3.53680896 4.03026888 5.85261104\n",
      " 6.71607968 5.04318315 4.74748162 6.77152061 5.50669686 6.76881189\n",
      " 6.83346401 3.74019161 3.0319687  6.07020478 5.28557855 5.65044807\n",
      " 5.32830168 4.24998886 4.53876354 4.85655992 4.84684518 3.84683557\n",
      " 4.11555715 4.36646393 5.29650938 3.06917667 7.29422053 4.69413027\n",
      " 4.58884107 3.91005977 6.28440593 5.34090714 6.05074359 4.59270127\n",
      " 5.63638873 4.88035453 4.07719211 3.56984984 5.98486848 6.80323875\n",
      " 4.76299904 2.79785147 4.55906417 5.1633122  6.44710395 5.62393047\n",
      " 4.3795838  5.63722565 6.33675134 5.81607095 4.69893975 5.83789658\n",
      " 5.52506983 6.77589174 3.76457632 3.70129246 4.897283   5.8953293\n",
      " 5.40929938 4.98507657 3.22007333 3.79599365 4.80699123 4.27755721\n",
      " 4.7808635  4.80855716 3.9582749  4.59597961 6.10029512 3.87361322\n",
      " 4.50372962 5.86053854 6.31044775 4.1653371  4.39333082 5.52188466\n",
      " 5.88709624 4.77573909 4.85327045 4.41167952 3.57806501 4.46040374\n",
      " 5.45480432 6.0480488  6.85057974 4.79233593 5.23973794 4.62626038\n",
      " 5.02626015 3.09316099 2.122292   5.51905622 5.34683722 4.06111122\n",
      " 6.35175646 3.9073267  5.8504752  3.84824305 6.19935586 4.21409582\n",
      " 6.11891938 5.17796461 5.95163306 5.17249175 5.68949659 4.36083183\n",
      " 3.78077886 4.59610303 4.94436404 6.69410577 7.67167537 4.67221331\n",
      " 5.86800378 5.21071984 5.02664851 3.9490254  4.99317847 5.18202092\n",
      " 5.34566141 6.12650931 3.76817427 5.88987662 4.48304055 5.66949708\n",
      " 4.38214689 5.26006395 4.97798994 4.61704713 4.82395084 5.44308238\n",
      " 4.64387958 4.85861767 6.18495159 5.93670217 4.86175334 5.88800952\n",
      " 5.33063029 5.82685758 7.03010234 4.64533001 4.50653981 6.55461638\n",
      " 4.52237205 4.23443658 3.36216219 5.32504848 5.19076945 5.9254575\n",
      " 5.70034982 5.42302455 4.3203455  5.86154201 5.07526594 5.59968243\n",
      " 4.39477866 5.07048079 5.00168709 7.26261577 2.97905731 6.39268609\n",
      " 2.94304946 5.75235443 3.91523422 4.46097657 6.84555666 4.40870745\n",
      " 4.84331287 4.25133384 6.53136637 5.64435992 4.66979805 5.85150293\n",
      " 4.8118056  5.08441235 4.45068648 5.96505965 4.38468556 3.76746484\n",
      " 4.65578532 4.35605392 5.40442807 5.44379481 3.84113276 3.03681574\n",
      " 4.44285688 4.03430224 4.30595039 4.86771349 4.94335274 2.87853034\n",
      " 4.98116641 4.84997595 4.33178635 4.3441204  4.45257444 4.63066313\n",
      " 3.76207066 5.25479889 5.85722377 3.84063502 3.77095546 5.01171151\n",
      " 3.95783533 5.01013372 5.33371954 4.33839158 4.04975277 4.72325076\n",
      " 3.78557889 5.19908406 4.47720232 5.71582054 6.50943261 5.05646766\n",
      " 6.84009658 7.44756539 4.57144219 5.59658587 5.1689126  3.95447254\n",
      " 4.62734381 4.17978899 5.37210353 4.85585728 4.43584064 2.73372192\n",
      " 3.81056365 5.87921314 4.61597363 4.15178128 4.37123432 4.00682871\n",
      " 4.25742917 6.92162116 6.10902529 5.28558664 4.90974066 7.63284308\n",
      " 5.43658793 5.49169784 4.98944644 5.850797   5.63567281 6.49969315\n",
      " 4.27016231 6.39811707 3.96599604 5.88630901 3.48785879 5.00572834\n",
      " 5.17665001 4.09936041 3.35622448 4.86717376 3.89252267 4.83668697\n",
      " 5.48896047 5.02370351 2.66604088 3.97605357 6.20646984 4.65909419\n",
      " 4.02185783 5.20995533 3.85734943 4.82140478 4.1971921  5.35305527\n",
      " 5.25285685 4.48609317 6.50665396 5.18386242 5.2881851  5.35559621\n",
      " 5.6676081  3.94172804 5.11928791 5.6224577  5.49687962 4.17057392\n",
      " 4.0187026  2.56244942 5.75085139 4.603322   6.38672096 4.86148992\n",
      " 5.25094878 6.35009232 6.55221342 4.05512507 4.02857918 5.55252099\n",
      " 4.37379414 5.49403035 5.80538264 4.61735084 3.4198615  5.46526329\n",
      " 5.22179788 5.58554639 5.17079066 5.01887189 5.45878047 5.89469276\n",
      " 4.77893042 4.31786226 7.40514958 5.04432662 6.35343174 5.84097275\n",
      " 5.140925   5.84673961 4.05768898 4.91880773 5.77792824 5.61470969\n",
      " 2.36027015 5.90601813 5.10758471 4.27901743 4.69202324 4.81921686\n",
      " 5.90462242 5.86845279 3.85395085 4.5317381  4.0917991  5.02879449\n",
      " 4.86876099 6.51970771 5.9503978  5.61977658 4.70490017 6.73691164\n",
      " 7.19201909 5.87746512 5.75971825 3.701593   4.97832788 4.97562454\n",
      " 3.14745009 4.92208636 4.04390553 5.01019055 3.40533561 4.44382748\n",
      " 3.7873555  5.30252808 5.05172004 5.54083866 5.39142691 5.18283008\n",
      " 5.21860508 2.84921163 4.51058548 5.32398313 6.55291463 4.12600105\n",
      " 5.17451905 4.53443193 4.63276187 4.78570601 4.72304085 4.39267911\n",
      " 5.04763214 6.27532044 3.82016718 4.57503293 5.59704998 4.7740409\n",
      " 3.43794632 5.5743273  2.28187419 4.23637033 6.02877745 3.70387814\n",
      " 4.41504442 6.16481643 5.51645676 4.93070647 5.8830282  4.03148582\n",
      " 5.45281294 5.65747819 4.67231047 3.56424479 6.4444262  6.71582947\n",
      " 4.86058379 5.44492697 2.62617338 5.74266788 4.30002903 7.28444725\n",
      " 0.93370342 4.33970912 4.21418166 4.30559924 3.54782761 4.26856911\n",
      " 4.02174667 4.3077501  3.48943515 4.60152885 6.60242526 4.5227487\n",
      " 4.6384842  4.77935499 4.17880479 5.35438613 7.24794827 3.30288054\n",
      " 6.0390793  4.93577099 4.49078885 5.52283474 6.20093208 5.94467985\n",
      " 3.93504827 6.72225838 4.87731262 4.53727199 4.9099266  6.22109271\n",
      " 5.55258185 4.14780388 4.45232661 4.63730607 3.25718728 4.30983577\n",
      " 4.85911027 5.01602846 3.33408154 4.06921706 5.65860135 4.27564872\n",
      " 4.42223858 3.76297293 4.98157215 5.64323225 6.04625264 3.90244632\n",
      " 5.6558115  5.39988361 4.55097626 3.69497069 4.34721936 5.67992273\n",
      " 6.51270382 4.90406319 3.73201675 5.44094679 5.40056387 4.99361145\n",
      " 4.3991363  4.28052194 6.34312644 4.61512524 5.39166417 5.52446757\n",
      " 3.41535846 4.48375817 6.30543656 7.11155676 3.8658567  4.21345909\n",
      " 3.55876413 6.34357162 2.87641535 3.51289417 4.33925738 5.16024224\n",
      " 5.72699348 4.94132243 4.91919827 3.58170866 3.40901195 4.94581123\n",
      " 6.14536341 5.32820092 5.03627839 3.3701954  6.39150691 4.85576012\n",
      " 4.36662075 4.97963369 6.0611756  4.03717948 6.79529316 5.34355186\n",
      " 4.56627218 4.50042284 6.88685614 5.48497624 5.85924609 4.63365306\n",
      " 4.81749698 5.22332881 5.27545446 5.01790832 6.09738458 4.74509548\n",
      " 3.64899335 5.95359737 7.80086501 6.02434773 4.80260315 4.74726445\n",
      " 4.53919116 5.48752395 4.99016704 5.17044318 4.17240784 5.09365246\n",
      " 4.82449892 3.78347026 6.39852449 5.80296893 2.8182006  4.22082777\n",
      " 5.06420174 4.27053861 2.7950095  3.89429519 5.75720228 5.19780285\n",
      " 6.10754973 6.87528701 4.11902651 4.61907183 7.21226387 5.12685502\n",
      " 4.43525153 4.31233428 5.60968233 4.07294041 4.76635378 6.22220667\n",
      " 4.50377089 5.62588628 5.05400319 6.64255564 3.58820944 4.60426396\n",
      " 4.83241124 4.88600368 5.53297006 3.5067337  5.76111027 3.64322746\n",
      " 5.03650517 4.05117813 4.37384557 4.92597809 4.70095319 5.19634012\n",
      " 5.88766377 3.18309329 4.54459107 5.66813484 4.72967956 6.32430869\n",
      " 3.36894652 4.57640236 4.09688814 4.91405757 6.20353176 6.44388919\n",
      " 1.66478163 4.64237494 4.62999538 4.17001989 5.26639799 3.27852446\n",
      " 6.18285332 4.71771943 4.96111512 6.90754678]\n"
     ]
    },
    {
     "data": {
      "text/plain": [
       "(array([  1.,   4.,  20.,  60., 184., 294., 214., 146.,  58.,  19.]),\n",
       " array([0.93370342, 1.62041957, 2.30713573, 2.99385189, 3.68056805,\n",
       "        4.36728421, 5.05400037, 5.74071653, 6.42743269, 7.11414885,\n",
       "        7.80086501]),\n",
       " <a list of 10 Patch objects>)"
      ]
     },
     "execution_count": 16,
     "metadata": {},
     "output_type": "execute_result"
    },
    {
     "data": {
      "image/png": "[encoded data removed]",
      "text/plain": [
       "<Figure size 432x288 with 1 Axes>"
      ]
     },
     "metadata": {
      "needs_background": "light"
     },
     "output_type": "display_data"
    }
   ],
   "source": [
    "a = np.random.normal(0,1,(3,2))\n",
    "print(a)\n",
    "print('-'* 20)\n",
    "b = np.random.normal(5,1,(1000,))\n",
    "print(b)\n",
    "plt.hist(b)"
   ]
  },
  {
   "cell_type": "markdown",
   "metadata": {},
   "source": [
    "## numpy.resize(a,tuple)\n",
    "   改变数组的形状，不够的地方默认以重复a填充，当refcheck为False，以0填充"
   ]
  },
  {
   "cell_type": "markdown",
   "metadata": {},
   "source": [
    "## numpy.append(a,values,axis = None)\n",
    "   以value值添加到a的副本数组的末尾，若不指定axis，则变成一维数组"
   ]
  },
  {
   "cell_type": "code",
   "execution_count": 17,
   "metadata": {},
   "outputs": [
    {
     "name": "stdout",
     "output_type": "stream",
     "text": [
      "[1 2 3 4 5 6 7 8 9]\n"
     ]
    }
   ],
   "source": [
    "a = np.array([[1,2,3],[4,5,6]])\n",
    "print(np.append(a,[7,8,9]))"
   ]
  },
  {
   "cell_type": "code",
   "execution_count": 19,
   "metadata": {},
   "outputs": [
    {
     "name": "stdout",
     "output_type": "stream",
     "text": [
      "[[1 2 3]\n",
      " [4 5 6]]\n",
      "[[1 2 3]\n",
      " [4 5 6]\n",
      " [7 8 9]]\n"
     ]
    }
   ],
   "source": [
    "print(a) # append不改变原数组的值\n",
    "print(np.append(a,[[7,8,9]],axis = 0))"
   ]
  },
  {
   "cell_type": "code",
   "execution_count": 21,
   "metadata": {},
   "outputs": [
    {
     "name": "stdout",
     "output_type": "stream",
     "text": [
      "[[1 2 3 5 5 5]\n",
      " [4 5 6 7 8 9]]\n"
     ]
    }
   ],
   "source": [
    "print(np.append(a,[[5,5,5],[7,8,9]],axis = 1)) \n",
    "# value必须维度与原数组相匹配"
   ]
  },
  {
   "cell_type": "markdown",
   "metadata": {},
   "source": [
    "## numpy.insert()\n",
    "   表示沿着指定的轴，在给定索引值的前一个位置插入相应的值\n",
    "   \n",
    "   若不指定轴，则输入数组展开为一维数组"
   ]
  },
  {
   "cell_type": "code",
   "execution_count": 24,
   "metadata": {},
   "outputs": [
    {
     "name": "stdout",
     "output_type": "stream",
     "text": [
      "[ 1  2  3 11 12  4  5  6]\n",
      "[[ 1  2]\n",
      " [11 11]\n",
      " [ 3  4]\n",
      " [ 5  6]]\n",
      "[[ 1 11  2]\n",
      " [ 3 11  4]\n",
      " [ 5 11  6]]\n"
     ]
    }
   ],
   "source": [
    "a = np.array([[1,2],[3,4],[5,6]])\n",
    "# 不提供axis的情况，会将数组展开\n",
    "print(np.insert(a,3,[11,12]))\n",
    "# 沿轴 0 垂直方向\n",
    "print(np.insert(a,1,[11],axis = 0))\n",
    "# 沿轴 1 水平方向\n",
    "print(np.insert(a,1,11,axis = 1))"
   ]
  },
  {
   "cell_type": "markdown",
   "metadata": {},
   "source": [
    "## numpy.delete()\n",
    "   与insert函数逻辑相同"
   ]
  },
  {
   "cell_type": "code",
   "execution_count": 25,
   "metadata": {},
   "outputs": [
    {
     "name": "stdout",
     "output_type": "stream",
     "text": [
      "[[1 2]\n",
      " [3 4]\n",
      " [5 6]]\n",
      "[2 3 4 5 6]\n",
      "[[1 2]\n",
      " [5 6]]\n",
      "[[1]\n",
      " [3]\n",
      " [5]]\n",
      "[3 4 5 6]\n"
     ]
    }
   ],
   "source": [
    "print(a)\n",
    "# 不提供axis的情况，会将数组展开\n",
    "print(np.delete(a,0))\n",
    "# 删除第2行\n",
    "print(np.delete(a,1,axis = 0))\n",
    "# 删除第二列\n",
    "print(np.delete(a,1,axis = 1))\n",
    "\n",
    "# 删除多行\n",
    "print(np.delete(a,[0,1]))"
   ]
  },
  {
   "cell_type": "code",
   "execution_count": 26,
   "metadata": {},
   "outputs": [
    {
     "data": {
      "text/plain": [
       "slice(1, 4, None)"
      ]
     },
     "execution_count": 26,
     "metadata": {},
     "output_type": "execute_result"
    }
   ],
   "source": [
    "np.s_[1:4]"
   ]
  },
  {
   "cell_type": "code",
   "execution_count": 27,
   "metadata": {},
   "outputs": [
    {
     "data": {
      "text/plain": [
       "array([1, 2, 3, 4])"
      ]
     },
     "execution_count": 27,
     "metadata": {},
     "output_type": "execute_result"
    }
   ],
   "source": [
    "np.r_[1:5]"
   ]
  },
  {
   "cell_type": "code",
   "execution_count": 28,
   "metadata": {},
   "outputs": [
    {
     "data": {
      "text/plain": [
       "array([[1],\n",
       "       [2],\n",
       "       [3]])"
      ]
     },
     "execution_count": 28,
     "metadata": {},
     "output_type": "execute_result"
    }
   ],
   "source": [
    "np.c_[1:4]"
   ]
  },
  {
   "cell_type": "markdown",
   "metadata": {},
   "source": [
    "## numpy.argwhere()\n",
    "   该函数返回数组中满足表达式的元素的索引，若是多维数组则返回行、列索引组成的索引坐标"
   ]
  },
  {
   "cell_type": "code",
   "execution_count": 29,
   "metadata": {},
   "outputs": [
    {
     "data": {
      "text/plain": [
       "array([[0, 1, 2],\n",
       "       [3, 4, 5]])"
      ]
     },
     "execution_count": 29,
     "metadata": {},
     "output_type": "execute_result"
    }
   ],
   "source": [
    "x = np.arange(6).reshape(2,3)\n",
    "x"
   ]
  },
  {
   "cell_type": "code",
   "execution_count": 30,
   "metadata": {},
   "outputs": [
    {
     "name": "stdout",
     "output_type": "stream",
     "text": [
      "[[0 2]\n",
      " [1 0]\n",
      " [1 1]\n",
      " [1 2]] (4, 2)\n"
     ]
    }
   ],
   "source": [
    "y = np.argwhere(x > 1)\n",
    "print(y,y.shape)"
   ]
  },
  {
   "cell_type": "markdown",
   "metadata": {},
   "source": [
    "## numpy.unique() 去重函数\n",
    "- return_index: 如果为True，则返回新数组元素在原数组中的位置\n",
    "- return_inverse:如果为True，则返回原数组元素在新数组中的位置\n",
    "- return_counts:如果为True，则返回去重后的数组元素在原数组中出现的次数"
   ]
  },
  {
   "cell_type": "code",
   "execution_count": 31,
   "metadata": {},
   "outputs": [
    {
     "name": "stdout",
     "output_type": "stream",
     "text": [
      "[5 3 5 6 7 2 1 8 3 5 0 9 2]\n",
      "[0 1 2 3 5 6 7 8 9]\n"
     ]
    }
   ],
   "source": [
    "a = np.array([5,3,5,6,7,2,1,8,3,5,0,9,2])\n",
    "print(a)\n",
    "\n",
    "uq = np.unique(a)\n",
    "print(uq)"
   ]
  },
  {
   "cell_type": "code",
   "execution_count": 32,
   "metadata": {},
   "outputs": [
    {
     "name": "stdout",
     "output_type": "stream",
     "text": [
      "[0 1 2 3 5 6 7 8 9]\n",
      "[10  6  5  1  0  3  4  7 11]\n"
     ]
    }
   ],
   "source": [
    "# 数组去重后的索引数组\n",
    "u,indices = np.unique(a,return_index = True)\n",
    "print(u)\n",
    "print(indices)"
   ]
  },
  {
   "cell_type": "code",
   "execution_count": 34,
   "metadata": {},
   "outputs": [
    {
     "name": "stdout",
     "output_type": "stream",
     "text": [
      "[4 3 4 5 6 2 1 7 3 4 0 8 2]\n"
     ]
    }
   ],
   "source": [
    "# 去重数组的下标\n",
    "ui,indices = np.unique(a,return_inverse = True)\n",
    "print(indices)"
   ]
  },
  {
   "cell_type": "code",
   "execution_count": 37,
   "metadata": {},
   "outputs": [
    {
     "name": "stdout",
     "output_type": "stream",
     "text": [
      "[1 1 2 2 3 1 1 1 1]\n",
      "5\n"
     ]
    }
   ],
   "source": [
    "# 返回去重元素的重复数量\n",
    "ui,indices = np.unique(a,return_counts = True)\n",
    "print(indices)\n",
    "\n",
    "# argmax返回数组中最大值的索引\n",
    "print(ui[np.argmax(indices)])"
   ]
  },
  {
   "cell_type": "markdown",
   "metadata": {},
   "source": [
    "## numpy.sort()\n",
    "   对输入数组执行排序，并返回一个数组副本\n",
    "- kind：默认为快排\n",
    "- order:若数组设置了字段，则order表示要排序的字段"
   ]
  },
  {
   "cell_type": "code",
   "execution_count": 38,
   "metadata": {},
   "outputs": [
    {
     "name": "stdout",
     "output_type": "stream",
     "text": [
      "[[3 5 7]\n",
      " [1 4 6]]\n"
     ]
    }
   ],
   "source": [
    "a = np.array([[3,7,5],[6,1,4]])\n",
    "\n",
    "print(np.sort(a))"
   ]
  },
  {
   "cell_type": "code",
   "execution_count": 39,
   "metadata": {},
   "outputs": [
    {
     "name": "stdout",
     "output_type": "stream",
     "text": [
      "[[3 1 4]\n",
      " [6 7 5]]\n"
     ]
    }
   ],
   "source": [
    "# 以行为参照，列上面的数据排序\n",
    "print(np.sort(a,axis = 0))"
   ]
  },
  {
   "cell_type": "code",
   "execution_count": 40,
   "metadata": {},
   "outputs": [
    {
     "name": "stdout",
     "output_type": "stream",
     "text": [
      "[[3 5 7]\n",
      " [1 4 6]]\n"
     ]
    }
   ],
   "source": [
    "#以列为参照，行上面的数据排序\n",
    "print(np.sort(a,axis = 1))"
   ]
  },
  {
   "cell_type": "markdown",
   "metadata": {},
   "source": [
    "## numpy.argsort()\n",
    "   沿着指定的轴，对输入的数组元素值进行排序，并返回排序后的元素索引数组"
   ]
  },
  {
   "cell_type": "code",
   "execution_count": null,
   "metadata": {},
   "outputs": [],
   "source": []
  }
 ],
 "metadata": {
  "kernelspec": {
   "display_name": "Python 3",
   "language": "python",
   "name": "python3"
  },
  "language_info": {
   "codemirror_mode": {
    "name": "ipython",
    "version": 3
   },
   "file_extension": ".py",
   "mimetype": "text/x-python",
   "name": "python",
   "nbconvert_exporter": "python",
   "pygments_lexer": "ipython3",
   "version": "3.7.6"
  }
 },
 "nbformat": 4,
 "nbformat_minor": 4
}

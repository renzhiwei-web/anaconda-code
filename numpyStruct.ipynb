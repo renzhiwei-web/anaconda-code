{
 "cells": [
  {
   "cell_type": "code",
   "execution_count": 1,
   "metadata": {},
   "outputs": [],
   "source": [
    "import numpy as np"
   ]
  },
  {
   "cell_type": "markdown",
   "metadata": {},
   "source": [
    "## 结构化的数据类型"
   ]
  },
  {
   "cell_type": "code",
   "execution_count": 3,
   "metadata": {},
   "outputs": [
    {
     "name": "stdout",
     "output_type": "stream",
     "text": [
      "[('age', 'i1')]\n",
      "[(18,) (19,)] [('age', 'i1')] 1\n"
     ]
    },
    {
     "data": {
      "text/plain": [
       "array([18, 19], dtype=int8)"
      ]
     },
     "execution_count": 3,
     "metadata": {},
     "output_type": "execute_result"
    }
   ],
   "source": [
    "# 首先创建结构化数据类型\n",
    "dt = np.dtype([('age','i1')]) # age指属性 i值int，1指字节\n",
    "print(dt)\n",
    "# 将数据类型应用于ndarray对象\n",
    "students = np.array([(18),(19)],dtype = dt)\n",
    "print(students,students.dtype,students.ndim)\n",
    "students['age']"
   ]
  },
  {
   "cell_type": "markdown",
   "metadata": {},
   "source": [
    "#### 描述一位老师的姓名，年龄，工资的属性"
   ]
  },
  {
   "cell_type": "code",
   "execution_count": 7,
   "metadata": {},
   "outputs": [
    {
     "name": "stdout",
     "output_type": "stream",
     "text": [
      "[('name', '<U2'), ('age', 'i1'), ('salary', '<f4')]\n",
      "[('w1', 32, 83257.5) ('1h', 28,  7856.8)] 1\n",
      "['w1' '1h']\n",
      "[32 28]\n"
     ]
    }
   ],
   "source": [
    "teacher = np.dtype([('name',np.str_,2),('age','i1'),('salary','f4')])\n",
    "\n",
    "print(teacher)\n",
    "# 将数据类型应用于ndarray对象\n",
    "b = np.array([('w1',32,83257.50),('1h',28,7856.80)],dtype = teacher)\n",
    "print(b,b.ndim)\n",
    "print(b['name'])\n",
    "print(b['age'])"
   ]
  },
  {
   "cell_type": "code",
   "execution_count": null,
   "metadata": {},
   "outputs": [],
   "source": []
  }
 ],
 "metadata": {
  "kernelspec": {
   "display_name": "Python 3",
   "language": "python",
   "name": "python3"
  },
  "language_info": {
   "codemirror_mode": {
    "name": "ipython",
    "version": 3
   },
   "file_extension": ".py",
   "mimetype": "text/x-python",
   "name": "python",
   "nbconvert_exporter": "python",
   "pygments_lexer": "ipython3",
   "version": "3.7.6"
  }
 },
 "nbformat": 4,
 "nbformat_minor": 4
}

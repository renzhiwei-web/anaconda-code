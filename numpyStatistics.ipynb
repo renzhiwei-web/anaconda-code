{
 "cells": [
  {
   "cell_type": "code",
   "execution_count": 1,
   "metadata": {},
   "outputs": [],
   "source": [
    "import numpy as np"
   ]
  },
  {
   "cell_type": "markdown",
   "metadata": {},
   "source": [
    "## 求平均值mean() 或者np.mean()"
   ]
  },
  {
   "cell_type": "code",
   "execution_count": 2,
   "metadata": {},
   "outputs": [
    {
     "name": "stdout",
     "output_type": "stream",
     "text": [
      "[[ 0  1  2  3  4]\n",
      " [ 5  6  7  8  9]\n",
      " [10 11 12 13 14]\n",
      " [15 16 17 18 19]]\n"
     ]
    },
    {
     "data": {
      "text/plain": [
       "9.5"
      ]
     },
     "execution_count": 2,
     "metadata": {},
     "output_type": "execute_result"
    }
   ],
   "source": [
    "m1 = np.arange(20).reshape((4,5))\n",
    "print(m1)\n",
    "# 默认求出数组的所有元素的平均值\n",
    "m1.mean()"
   ]
  },
  {
   "cell_type": "code",
   "execution_count": 3,
   "metadata": {},
   "outputs": [
    {
     "data": {
      "text/plain": [
       "array([ 7.5,  8.5,  9.5, 10.5, 11.5])"
      ]
     },
     "execution_count": 3,
     "metadata": {},
     "output_type": "execute_result"
    }
   ],
   "source": [
    "# 若相求某一维度的平均值，需要设置axis参数\n",
    "# axis = 0，将从上往下计算\n",
    "# axis = 1，将从左往右计算\n",
    "m1.mean(axis = 0)"
   ]
  },
  {
   "cell_type": "code",
   "execution_count": 4,
   "metadata": {},
   "outputs": [
    {
     "data": {
      "text/plain": [
       "array([ 2.,  7., 12., 17.])"
      ]
     },
     "execution_count": 4,
     "metadata": {},
     "output_type": "execute_result"
    }
   ],
   "source": [
    "m1.mean(axis = 1)"
   ]
  },
  {
   "cell_type": "markdown",
   "metadata": {},
   "source": [
    "## 中位数 np.median()"
   ]
  },
  {
   "cell_type": "code",
   "execution_count": 20,
   "metadata": {},
   "outputs": [
    {
     "data": {
      "text/plain": [
       "9.5"
      ]
     },
     "execution_count": 20,
     "metadata": {},
     "output_type": "execute_result"
    }
   ],
   "source": [
    "np.median(m1)"
   ]
  },
  {
   "cell_type": "code",
   "execution_count": 7,
   "metadata": {},
   "outputs": [
    {
     "data": {
      "text/plain": [
       "6.0"
      ]
     },
     "execution_count": 7,
     "metadata": {},
     "output_type": "execute_result"
    }
   ],
   "source": [
    "ar1 = np.array([1,3,5,7,9,12])\n",
    "np.median(ar1)"
   ]
  },
  {
   "cell_type": "markdown",
   "metadata": {},
   "source": [
    "## 求标准差 np.std() 或者std()"
   ]
  },
  {
   "cell_type": "code",
   "execution_count": 14,
   "metadata": {},
   "outputs": [
    {
     "name": "stdout",
     "output_type": "stream",
     "text": [
      "5.766281297335398\n",
      "5.766281297335398\n",
      "3.670452590924207\n"
     ]
    }
   ],
   "source": [
    "print(np.std(m1))\n",
    "print(m1.std())\n",
    "print(np.std(ar1))"
   ]
  },
  {
   "cell_type": "code",
   "execution_count": 12,
   "metadata": {},
   "outputs": [
    {
     "data": {
      "text/plain": [
       "3.670452590924207"
      ]
     },
     "execution_count": 12,
     "metadata": {},
     "output_type": "execute_result"
    }
   ],
   "source": [
    "import math\n",
    "# 按步骤计算标准差,先将平方差总体相加再 / n，这样与库函数的计算结果相同\n",
    "math.sqrt(np.sum((ar1 - np.mean(ar1)) ** 2) / ar1.size)"
   ]
  },
  {
   "cell_type": "markdown",
   "metadata": {},
   "source": [
    "## 方差np.var() 或者var()"
   ]
  },
  {
   "cell_type": "code",
   "execution_count": 16,
   "metadata": {},
   "outputs": [
    {
     "name": "stdout",
     "output_type": "stream",
     "text": [
      "33.25\n",
      "33.25\n",
      "13.472222222222223\n"
     ]
    }
   ],
   "source": [
    "print(np.var(m1))\n",
    "print(m1.var())\n",
    "print(np.var(ar1))"
   ]
  },
  {
   "cell_type": "markdown",
   "metadata": {},
   "source": [
    "## 求最大（小）值，求和：max()，min()，sum()"
   ]
  },
  {
   "cell_type": "code",
   "execution_count": 17,
   "metadata": {},
   "outputs": [
    {
     "name": "stdout",
     "output_type": "stream",
     "text": [
      "19\n",
      "axis = 0,从上往下查找： [15 16 17 18 19]\n",
      "axis = 1,从左往右查找： [ 4  9 14 19]\n"
     ]
    }
   ],
   "source": [
    "print(m1.max())\n",
    "print('axis = 0,从上往下查找：',m1.max(axis = 0))\n",
    "print('axis = 1,从左往右查找：',m1.max(axis = 1))"
   ]
  },
  {
   "cell_type": "code",
   "execution_count": 18,
   "metadata": {},
   "outputs": [
    {
     "name": "stdout",
     "output_type": "stream",
     "text": [
      "0\n",
      "axis = 0,从上往下查找： [0 1 2 3 4]\n",
      "axis = 1,从左往右查找： [ 0  5 10 15]\n"
     ]
    }
   ],
   "source": [
    "print(m1.min())\n",
    "print('axis = 0,从上往下查找：',m1.min(axis = 0))\n",
    "print('axis = 1,从左往右查找：',m1.min(axis = 1))"
   ]
  },
  {
   "cell_type": "code",
   "execution_count": 19,
   "metadata": {},
   "outputs": [
    {
     "name": "stdout",
     "output_type": "stream",
     "text": [
      "190\n",
      "axis = 0,从上往下查找： [30 34 38 42 46]\n",
      "axis = 1,从左往右查找： [10 35 60 85]\n"
     ]
    }
   ],
   "source": [
    "print(m1.sum())\n",
    "print('axis = 0,从上往下查找：',m1.sum(axis = 0))\n",
    "print('axis = 1,从左往右查找：',m1.sum(axis = 1))"
   ]
  },
  {
   "cell_type": "markdown",
   "metadata": {},
   "source": [
    "## 加权平均值 np.average()\n",
    "   np.average(a,axis = None,weights = None,returned = False)\n",
    "   无权重时与mean()方法相同"
   ]
  },
  {
   "cell_type": "code",
   "execution_count": 21,
   "metadata": {},
   "outputs": [
    {
     "name": "stdout",
     "output_type": "stream",
     "text": [
      "88.33333333333333\n",
      "88.33333333333333\n",
      "90.5\n",
      "86.0\n"
     ]
    }
   ],
   "source": [
    "# 实例，考试成绩的计算\n",
    "xiaoming = np.array([80,90,95])\n",
    "xiaogang = np.array([95,90,80])\n",
    "\n",
    "# 权重\n",
    "weights = np.array([0.2,0.3,0.5])\n",
    "# 计算xiaoming和xiaogang的平均值\n",
    "print(np.mean(xiaoming))\n",
    "print(np.mean(xiaogang))\n",
    "\n",
    "#计算加权平均值\n",
    "print(np.average(xiaoming,weights = weights))\n",
    "print(np.average(xiaogang,weights = weights))"
   ]
  },
  {
   "cell_type": "code",
   "execution_count": null,
   "metadata": {},
   "outputs": [],
   "source": []
  }
 ],
 "metadata": {
  "kernelspec": {
   "display_name": "Python 3",
   "language": "python",
   "name": "python3"
  },
  "language_info": {
   "codemirror_mode": {
    "name": "ipython",
    "version": 3
   },
   "file_extension": ".py",
   "mimetype": "text/x-python",
   "name": "python",
   "nbconvert_exporter": "python",
   "pygments_lexer": "ipython3",
   "version": "3.7.6"
  }
 },
 "nbformat": 4,
 "nbformat_minor": 4
}
